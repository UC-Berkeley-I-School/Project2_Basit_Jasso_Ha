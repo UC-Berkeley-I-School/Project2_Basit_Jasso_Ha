{
 "cells": [
  {
   "cell_type": "code",
   "execution_count": null,
   "id": "54e82f5f",
   "metadata": {},
   "outputs": [],
   "source": [
    "import pandas as pd\n",
    "from pathlib import Path\n",
    "import numpy as np\n",
    "import matplotlib.pyplot as plt\n",
    "import seaborn as sns\n",
    "%matplotlib inline\n",
    "\n",
    "pd.set_option('display.max_columns', None)"
   ]
  },
  {
   "cell_type": "code",
   "execution_count": null,
   "id": "1a42afd3",
   "metadata": {},
   "outputs": [],
   "source": [
    "ROOT = Path('/home/qha/github/Project2_Bassit_Jasso_Ha')\n",
    "RAW = ROOT / 'data' / 'raw'\n",
    "PROCESSED = ROOT / 'data' / 'processed'\n",
    "FIG = ROOT / 'figures'"
   ]
  },
  {
   "cell_type": "code",
   "execution_count": null,
   "id": "1c4a0e53",
   "metadata": {},
   "outputs": [],
   "source": [
    "from IPython.core.display import display, HTML\n",
    "display(HTML(\"<style>div.output_scroll { height: 44em; }</style>\"))"
   ]
  },
  {
   "cell_type": "markdown",
   "id": "490bcc4d",
   "metadata": {},
   "source": [
    "# Import and merge data"
   ]
  },
  {
   "cell_type": "code",
   "execution_count": null,
   "id": "7a3431e2",
   "metadata": {},
   "outputs": [],
   "source": [
    "# import pbtype\n",
    "pb = pd.read_csv(PROCESSED / 'pbtype_cleaned.csv', index_col=0)\n",
    "\n",
    "# import accident\n",
    "acc = pd.read_csv(PROCESSED / 'accident_2015_2021.csv', index_col=0)\n",
    "\n",
    "# merge\n",
    "pb = pb.merge(acc, how='left', on=['ST_CASE', 'YEAR'], validate='m:1')\n",
    "\n",
    "# generate date var\n",
    "pb['date'] = pb['YEAR'].astype(str) + '-' + pb['MONTH'].astype(str) + '-' + pb['DAY'].astype(str)\n",
    "pb['date'] = pd.to_datetime(pb['date'])"
   ]
  },
  {
   "cell_type": "code",
   "execution_count": null,
   "id": "fc790ff5",
   "metadata": {
    "scrolled": true
   },
   "outputs": [],
   "source": [
    "drk = pb[pb['LGT_CONDNAME'].isin(['Dark - Not Lighted', 'Dark - Lighted'])]\n",
    "drk = drk.groupby(['YEAR', 'LGT_CONDNAME'], as_index=False)['PER_NO'].count()\n",
    "drk = (drk.pivot_table(values='PER_NO', index='YEAR', columns='LGT_CONDNAME')\n",
    "       .reset_index().rename_axis(None, axis=1).set_index('YEAR'))\n",
    "\n",
    "ax = drk.plot(kind=\"bar\")\n",
    "fig = ax.get_figure()\n",
    "\n",
    "ax.set_ylabel('Number of Bicyclist Fatalities')\n",
    "ax.set_xlabel('Year')\n",
    "ax.set_xticklabels(drk.index, rotation=0)\n",
    "ax.grid(True)\n",
    "\n",
    "pass"
   ]
  },
  {
   "cell_type": "code",
   "execution_count": null,
   "id": "bd5a2b2d",
   "metadata": {},
   "outputs": [],
   "source": [
    "drk2 = pb[pb['LGT_CONDNAME'].isin(['Dark - Not Lighted', 'Dark - Lighted'])]\n",
    "drk2 = drk2.groupby(['BIKECTYPENAME', 'LGT_CONDNAME'], as_index=False)['PER_NO'].count()\n",
    "drk2 = (drk2.pivot_table(values='PER_NO', index='BIKECTYPENAME', columns='LGT_CONDNAME')\n",
    "       .reset_index().rename_axis(None, axis=1).set_index('BIKECTYPENAME'))\n",
    "drk2 = drk2.fillna(0)\n",
    "drk2['delta'] = drk2['Dark - Not Lighted'] - drk2['Dark - Lighted']\n",
    "drk2 = drk2[drk2['delta']>5].drop('delta', axis=1).sort_values('Dark - Not Lighted', ascending=False)\n",
    "\n",
    "ax = drk2.plot(kind=\"bar\")\n",
    "fig = ax.get_figure()\n",
    "\n",
    "ax.set_xticklabels(drk2.index, rotation=40, ha='right')\n",
    "ax.set_xlabel('')\n",
    "ax.set_ylabel('Number of Bicyclist Fatalities')\n",
    "ax.grid(True)\n",
    "\n",
    "fig.set_figwidth(15)\n",
    "pass"
   ]
  },
  {
   "cell_type": "code",
   "execution_count": null,
   "id": "764ff3c4",
   "metadata": {},
   "outputs": [],
   "source": [
    "pb.groupby(['WEATHERNAME'], as_index=False)['PER_NO'].count().sort_values(by='PER_NO', ascending=False)"
   ]
  },
  {
   "cell_type": "code",
   "execution_count": null,
   "id": "10ab0876",
   "metadata": {
    "scrolled": true
   },
   "outputs": [],
   "source": [
    "wea = pb[~pb['WEATHERNAME'].isin(['Not Reported', 'Other', 'Reported as Unknown', 'Unknown'])]\n",
    "wea = wea.groupby(['YEAR', 'WEATHERNAME'], as_index=False)['PER_NO'].count()\n",
    "wea = (wea.pivot_table(values='PER_NO', index='YEAR', columns='WEATHERNAME')\n",
    "       .reset_index().rename_axis(None, axis=1).set_index('YEAR'))\n",
    "wea = wea[['Clear', 'Cloudy', 'Rain', 'Fog, Smog, Smoke', 'Blowing Snow', 'Snow', 'Blowing Sand, Soil, Dirt', 'Severe Crosswinds']]\n",
    "colormap = plt.cm.Accent\n",
    "colors = [colormap(i) for i in np.linspace(0, 0.9, wea.shape[1])]\n",
    "\n",
    "ax = wea.plot(kind=\"bar\", stacked=True, color=colors)\n",
    "fig = ax.get_figure()\n",
    "\n",
    "ax.set_xticklabels(wea.index, rotation = 0)\n",
    "ax.set_ylabel('Number of Bicyclist Fatalities')\n",
    "ax.set_xlabel('Year')\n",
    "ax.grid(True)\n",
    "\n",
    "ax.legend(loc='upper center', bbox_to_anchor=(0.5, -0.05),\n",
    "          fancybox=True, shadow=True, ncol=5)\n",
    "\n",
    "fig.set_figwidth(14)\n",
    "pass"
   ]
  },
  {
   "cell_type": "code",
   "execution_count": null,
   "id": "d33be4ac",
   "metadata": {},
   "outputs": [],
   "source": []
  },
  {
   "cell_type": "code",
   "execution_count": null,
   "id": "f6b3c708",
   "metadata": {},
   "outputs": [],
   "source": []
  }
 ],
 "metadata": {
  "kernelspec": {
   "display_name": "Python 3 (ipykernel)",
   "language": "python",
   "name": "python3"
  },
  "language_info": {
   "codemirror_mode": {
    "name": "ipython",
    "version": 3
   },
   "file_extension": ".py",
   "mimetype": "text/x-python",
   "name": "python",
   "nbconvert_exporter": "python",
   "pygments_lexer": "ipython3",
   "version": "3.10.9"
  }
 },
 "nbformat": 4,
 "nbformat_minor": 5
}
